{
 "cells": [
  {
   "cell_type": "code",
   "execution_count": 6,
   "id": "e2b14d1b",
   "metadata": {},
   "outputs": [
    {
     "name": "stdout",
     "output_type": "stream",
     "text": [
      "[[ 5 15 17]\n",
      " [ 2 18 13]\n",
      " [ 1 17 16]]\n"
     ]
    }
   ],
   "source": [
    "import numpy as np\n",
    "\n",
    "arr = np.random.randint(0, 20, (3, 3))\n",
    "print(arr)"
   ]
  },
  {
   "cell_type": "code",
   "execution_count": 13,
   "id": "7794416c",
   "metadata": {},
   "outputs": [
    {
     "name": "stdout",
     "output_type": "stream",
     "text": [
      "[[11  6 19  5 19]\n",
      " [18  9  2  4 16]\n",
      " [ 3 12 13 12 18]\n",
      " [10 13 12  2 18]\n",
      " [ 4  6  5 10 10]]\n",
      "[5 2 3 2 4]\n",
      "[19 18 18 18 10]\n"
     ]
    }
   ],
   "source": [
    "arr = np.random.randint(0,20,(5,5))\n",
    "print(arr)\n",
    "row_min = np.min(arr, axis=1)\n",
    "row_max = np.max(arr, axis=1)\n",
    "print(row_min)\n",
    "print(row_max)"
   ]
  }
 ],
 "metadata": {
  "kernelspec": {
   "display_name": "base",
   "language": "python",
   "name": "python3"
  },
  "language_info": {
   "codemirror_mode": {
    "name": "ipython",
    "version": 3
   },
   "file_extension": ".py",
   "mimetype": "text/x-python",
   "name": "python",
   "nbconvert_exporter": "python",
   "pygments_lexer": "ipython3",
   "version": "3.13.5"
  }
 },
 "nbformat": 4,
 "nbformat_minor": 5
}
