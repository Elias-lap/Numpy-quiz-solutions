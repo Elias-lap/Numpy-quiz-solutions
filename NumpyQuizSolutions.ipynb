{
 "cells": [
  {
   "cell_type": "code",
   "execution_count": null,
   "id": "e2b14d1b",
   "metadata": {},
   "outputs": [
    {
     "name": "stdout",
     "output_type": "stream",
     "text": [
      "[[ 5 15 17]\n",
      " [ 2 18 13]\n",
      " [ 1 17 16]]\n"
     ]
    }
   ],
   "source": [
    "import numpy as np\n",
    "\n",
    "arr = np.random.randint(1, 20, (3, 3))\n",
    "print(arr)"
   ]
  },
  {
   "cell_type": "code",
   "execution_count": null,
   "id": "7794416c",
   "metadata": {},
   "outputs": [
    {
     "name": "stdout",
     "output_type": "stream",
     "text": [
      "[[11  6 19  5 19]\n",
      " [18  9  2  4 16]\n",
      " [ 3 12 13 12 18]\n",
      " [10 13 12  2 18]\n",
      " [ 4  6  5 10 10]]\n",
      "[5 2 3 2 4]\n",
      "[19 18 18 18 10]\n"
     ]
    }
   ],
   "source": [
    "arr = np.random.randint(1,20,(5,5))\n",
    "print(arr)\n",
    "row_min = np.min(arr, axis=1)\n",
    "row_max = np.max(arr, axis=1)\n",
    "print(row_min)\n",
    "print(row_max)"
   ]
  },
  {
   "cell_type": "code",
   "execution_count": null,
   "id": "3b4999ca",
   "metadata": {},
   "outputs": [
    {
     "name": "stdout",
     "output_type": "stream",
     "text": [
      "[14 12 17 12  5  5  7 11 10 14]\n",
      "[ 5  5  7 10 11 12 12 14 14 17]\n"
     ]
    }
   ],
   "source": [
    "vec = np.random.randint(1,20,10)\n",
    "print(vec)\n",
    "vec = np.sort(vec)\n",
    "print(vec)"
   ]
  },
  {
   "cell_type": "code",
   "execution_count": null,
   "id": "a8b1e37c",
   "metadata": {},
   "outputs": [
    {
     "name": "stdout",
     "output_type": "stream",
     "text": [
      "[ 0  1  2  3  5  7  9 11 13 14 15 16 17 18]\n",
      "[2 3 2 1 1 2 2 1 1 4 1 1 2 2]\n"
     ]
    }
   ],
   "source": [
    "arr = np.random.randint(1,20,(5,5))\n",
    "values , counts  = np.unique(arr, return_counts=True)\n",
    "print(values)\n",
    "print(counts)"
   ]
  },
  {
   "cell_type": "code",
   "execution_count": null,
   "id": "4c4327c5",
   "metadata": {},
   "outputs": [
    {
     "name": "stdout",
     "output_type": "stream",
     "text": [
      "[[19  0  0  9]\n",
      " [ 7 15 19  0]\n",
      " [ 0  0  3  7]\n",
      " [19  7  0  1]]\n"
     ]
    }
   ],
   "source": [
    "arr = np.random.randint(1,20,(4,4))\n",
    "# boolean indexing\n",
    "arr[arr % 2 == 0] = 0 \n",
    "print(arr)\n"
   ]
  }
 ],
 "metadata": {
  "kernelspec": {
   "display_name": "base",
   "language": "python",
   "name": "python3"
  },
  "language_info": {
   "codemirror_mode": {
    "name": "ipython",
    "version": 3
   },
   "file_extension": ".py",
   "mimetype": "text/x-python",
   "name": "python",
   "nbconvert_exporter": "python",
   "pygments_lexer": "ipython3",
   "version": "3.13.5"
  }
 },
 "nbformat": 4,
 "nbformat_minor": 5
}
